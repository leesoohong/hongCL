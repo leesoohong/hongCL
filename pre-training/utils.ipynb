{
 "cells": [
  {
   "cell_type": "code",
   "execution_count": null,
   "id": "84f2cc0c-b779-4b37-8824-7626e8efd858",
   "metadata": {},
   "outputs": [],
   "source": [
    "  \n",
    "import sys\n",
    "\n",
    "def print_weights(model):\n",
    "    for name, param in model.named_parameters():\n",
    "        if param.requires_grad:\n",
    "            print(name, param.shape)\n",
    "    sys.stdout.flush()\n",
    "\n",
    "\n",
    "def logger(info):\n",
    "    fold, epoch = info['fold'], info['epoch']\n",
    "    if epoch == 1 or epoch % 10 == 0:\n",
    "        train_acc, test_acc = info['train_acc'], info['test_acc']\n",
    "        print('{:02d}/{:03d}: Train Acc: {:.3f}, Test Accuracy: {:.3f}'.format(\n",
    "            fold, epoch, train_acc, test_acc))\n",
    "    sys.stdout.flush()\n"
   ]
  }
 ],
 "metadata": {
  "kernelspec": {
   "display_name": "Python 3",
   "language": "python",
   "name": "python3"
  },
  "language_info": {
   "codemirror_mode": {
    "name": "ipython",
    "version": 3
   },
   "file_extension": ".py",
   "mimetype": "text/x-python",
   "name": "python",
   "nbconvert_exporter": "python",
   "pygments_lexer": "ipython3",
   "version": "3.6.13"
  }
 },
 "nbformat": 4,
 "nbformat_minor": 5
}
